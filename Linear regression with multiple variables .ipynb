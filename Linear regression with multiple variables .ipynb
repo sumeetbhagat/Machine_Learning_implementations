{
 "cells": [
  {
   "cell_type": "code",
   "execution_count": 1,
   "id": "75462788",
   "metadata": {},
   "outputs": [],
   "source": [
    "import numpy as np # linear algebra\n",
    "import pandas as pd # data processing, CSV file I/O (e.g. pd.read_csv)\n",
    "\n",
    "# Input data files are available in the read-only \"../input/\" directory\n",
    "# For example, running this (by clicking run or pressing Shift+Enter) will list all files under the input directory\n",
    "\n",
    "import os\n",
    "for dirname, _, filenames in os.walk('/kaggle/input'):\n",
    "    for filename in filenames:\n",
    "        print(os.path.join(dirname, filename))\n",
    "\n",
    "# You can write up to 5GB to the current directory (/kaggle/working/) that gets preserved as output when you create a version using \"Save & Run All\" \n",
    "# You can also write temporary files to /kaggle/temp/, but they won't be saved outside of the current session."
   ]
  },
  {
   "cell_type": "code",
   "execution_count": 2,
   "id": "fd6002d8",
   "metadata": {},
   "outputs": [],
   "source": [
    "import matplotlib.pyplot as plt\n",
    "%matplotlib inline\n",
    "\n",
    "import seaborn as sns\n",
    "\n",
    "import warnings\n",
    "warnings.filterwarnings('ignore')"
   ]
  },
  {
   "cell_type": "code",
   "execution_count": 5,
   "id": "603870c0",
   "metadata": {},
   "outputs": [
    {
     "data": {
      "text/html": [
       "<div>\n",
       "<style scoped>\n",
       "    .dataframe tbody tr th:only-of-type {\n",
       "        vertical-align: middle;\n",
       "    }\n",
       "\n",
       "    .dataframe tbody tr th {\n",
       "        vertical-align: top;\n",
       "    }\n",
       "\n",
       "    .dataframe thead th {\n",
       "        text-align: right;\n",
       "    }\n",
       "</style>\n",
       "<table border=\"1\" class=\"dataframe\">\n",
       "  <thead>\n",
       "    <tr style=\"text-align: right;\">\n",
       "      <th></th>\n",
       "      <th>area</th>\n",
       "      <th>bedrooms</th>\n",
       "      <th>age</th>\n",
       "      <th>price</th>\n",
       "    </tr>\n",
       "  </thead>\n",
       "  <tbody>\n",
       "    <tr>\n",
       "      <th>0</th>\n",
       "      <td>2600</td>\n",
       "      <td>3.0</td>\n",
       "      <td>20</td>\n",
       "      <td>550000</td>\n",
       "    </tr>\n",
       "    <tr>\n",
       "      <th>1</th>\n",
       "      <td>3000</td>\n",
       "      <td>4.0</td>\n",
       "      <td>15</td>\n",
       "      <td>565000</td>\n",
       "    </tr>\n",
       "    <tr>\n",
       "      <th>2</th>\n",
       "      <td>3200</td>\n",
       "      <td>NaN</td>\n",
       "      <td>18</td>\n",
       "      <td>610000</td>\n",
       "    </tr>\n",
       "    <tr>\n",
       "      <th>3</th>\n",
       "      <td>3600</td>\n",
       "      <td>3.0</td>\n",
       "      <td>30</td>\n",
       "      <td>595000</td>\n",
       "    </tr>\n",
       "    <tr>\n",
       "      <th>4</th>\n",
       "      <td>4000</td>\n",
       "      <td>5.0</td>\n",
       "      <td>8</td>\n",
       "      <td>760000</td>\n",
       "    </tr>\n",
       "  </tbody>\n",
       "</table>\n",
       "</div>"
      ],
      "text/plain": [
       "   area  bedrooms  age   price\n",
       "0  2600       3.0   20  550000\n",
       "1  3000       4.0   15  565000\n",
       "2  3200       NaN   18  610000\n",
       "3  3600       3.0   30  595000\n",
       "4  4000       5.0    8  760000"
      ]
     },
     "execution_count": 5,
     "metadata": {},
     "output_type": "execute_result"
    }
   ],
   "source": [
    "df  = pd.read_csv('C:/Users/sumee/Dropbox/PC/Downloads/minihomeprices.csv')\n",
    "\n",
    "\n",
    "# show first five rows\n",
    "df.head()"
   ]
  },
  {
   "cell_type": "code",
   "execution_count": 6,
   "id": "780dcd8f",
   "metadata": {},
   "outputs": [
    {
     "name": "stdout",
     "output_type": "stream",
     "text": [
      "<class 'pandas.core.frame.DataFrame'>\n",
      "RangeIndex: 6 entries, 0 to 5\n",
      "Data columns (total 4 columns):\n",
      " #   Column    Non-Null Count  Dtype  \n",
      "---  ------    --------------  -----  \n",
      " 0   area      6 non-null      int64  \n",
      " 1   bedrooms  5 non-null      float64\n",
      " 2   age       6 non-null      int64  \n",
      " 3   price     6 non-null      int64  \n",
      "dtypes: float64(1), int64(3)\n",
      "memory usage: 320.0 bytes\n"
     ]
    }
   ],
   "source": [
    "df.info()"
   ]
  },
  {
   "cell_type": "code",
   "execution_count": 7,
   "id": "df5b7935",
   "metadata": {},
   "outputs": [
    {
     "data": {
      "text/html": [
       "<style type=\"text/css\">\n",
       "#T_cdfee_row0_col0, #T_cdfee_row0_col2, #T_cdfee_row0_col3, #T_cdfee_row2_col1 {\n",
       "  background-color: #000000;\n",
       "  color: #f1f1f1;\n",
       "}\n",
       "#T_cdfee_row0_col1, #T_cdfee_row6_col1 {\n",
       "  background-color: #e6cb39;\n",
       "  color: #000000;\n",
       "}\n",
       "#T_cdfee_row1_col0 {\n",
       "  background-color: #e6d95f;\n",
       "  color: #000000;\n",
       "}\n",
       "#T_cdfee_row1_col1 {\n",
       "  background-color: #e77b03;\n",
       "  color: #f1f1f1;\n",
       "}\n",
       "#T_cdfee_row1_col2, #T_cdfee_row5_col2 {\n",
       "  background-color: #cd3a52;\n",
       "  color: #f1f1f1;\n",
       "}\n",
       "#T_cdfee_row1_col3 {\n",
       "  background-color: #e6cf42;\n",
       "  color: #000000;\n",
       "}\n",
       "#T_cdfee_row2_col0 {\n",
       "  background-color: #2b2688;\n",
       "  color: #f1f1f1;\n",
       "}\n",
       "#T_cdfee_row2_col2 {\n",
       "  background-color: #1d1d60;\n",
       "  color: #f1f1f1;\n",
       "}\n",
       "#T_cdfee_row2_col3 {\n",
       "  background-color: #292684;\n",
       "  color: #f1f1f1;\n",
       "}\n",
       "#T_cdfee_row3_col0 {\n",
       "  background-color: #e68502;\n",
       "  color: #f1f1f1;\n",
       "}\n",
       "#T_cdfee_row3_col1, #T_cdfee_row4_col1 {\n",
       "  background-color: #903287;\n",
       "  color: #f1f1f1;\n",
       "}\n",
       "#T_cdfee_row3_col2 {\n",
       "  background-color: #191954;\n",
       "  color: #f1f1f1;\n",
       "}\n",
       "#T_cdfee_row3_col3 {\n",
       "  background-color: #e69b0b;\n",
       "  color: #f1f1f1;\n",
       "}\n",
       "#T_cdfee_row4_col0, #T_cdfee_row5_col3 {\n",
       "  background-color: #e6bd18;\n",
       "  color: #000000;\n",
       "}\n",
       "#T_cdfee_row4_col2 {\n",
       "  background-color: #302690;\n",
       "  color: #f1f1f1;\n",
       "}\n",
       "#T_cdfee_row4_col3 {\n",
       "  background-color: #e6a910;\n",
       "  color: #000000;\n",
       "}\n",
       "#T_cdfee_row5_col0 {\n",
       "  background-color: #e6d85c;\n",
       "  color: #000000;\n",
       "}\n",
       "#T_cdfee_row5_col1 {\n",
       "  background-color: #f06510;\n",
       "  color: #f1f1f1;\n",
       "}\n",
       "#T_cdfee_row6_col0 {\n",
       "  background-color: #f5f5cf;\n",
       "  color: #000000;\n",
       "}\n",
       "#T_cdfee_row6_col2 {\n",
       "  background-color: #f26112;\n",
       "  color: #f1f1f1;\n",
       "}\n",
       "#T_cdfee_row6_col3 {\n",
       "  background-color: #e9e993;\n",
       "  color: #000000;\n",
       "}\n",
       "#T_cdfee_row7_col0, #T_cdfee_row7_col1, #T_cdfee_row7_col2, #T_cdfee_row7_col3 {\n",
       "  background-color: #ffffff;\n",
       "  color: #000000;\n",
       "}\n",
       "</style>\n",
       "<table id=\"T_cdfee\">\n",
       "  <thead>\n",
       "    <tr>\n",
       "      <th class=\"blank level0\" >&nbsp;</th>\n",
       "      <th id=\"T_cdfee_level0_col0\" class=\"col_heading level0 col0\" >area</th>\n",
       "      <th id=\"T_cdfee_level0_col1\" class=\"col_heading level0 col1\" >bedrooms</th>\n",
       "      <th id=\"T_cdfee_level0_col2\" class=\"col_heading level0 col2\" >age</th>\n",
       "      <th id=\"T_cdfee_level0_col3\" class=\"col_heading level0 col3\" >price</th>\n",
       "    </tr>\n",
       "  </thead>\n",
       "  <tbody>\n",
       "    <tr>\n",
       "      <th id=\"T_cdfee_level0_row0\" class=\"row_heading level0 row0\" >count</th>\n",
       "      <td id=\"T_cdfee_row0_col0\" class=\"data row0 col0\" >6.000000</td>\n",
       "      <td id=\"T_cdfee_row0_col1\" class=\"data row0 col1\" >5.000000</td>\n",
       "      <td id=\"T_cdfee_row0_col2\" class=\"data row0 col2\" >6.000000</td>\n",
       "      <td id=\"T_cdfee_row0_col3\" class=\"data row0 col3\" >6.000000</td>\n",
       "    </tr>\n",
       "    <tr>\n",
       "      <th id=\"T_cdfee_level0_row1\" class=\"row_heading level0 row1\" >mean</th>\n",
       "      <td id=\"T_cdfee_row1_col0\" class=\"data row1 col0\" >3416.666667</td>\n",
       "      <td id=\"T_cdfee_row1_col1\" class=\"data row1 col1\" >4.200000</td>\n",
       "      <td id=\"T_cdfee_row1_col2\" class=\"data row1 col2\" >16.500000</td>\n",
       "      <td id=\"T_cdfee_row1_col3\" class=\"data row1 col3\" >648333.333333</td>\n",
       "    </tr>\n",
       "    <tr>\n",
       "      <th id=\"T_cdfee_level0_row2\" class=\"row_heading level0 row2\" >std</th>\n",
       "      <td id=\"T_cdfee_row2_col0\" class=\"data row2 col0\" >587.934237</td>\n",
       "      <td id=\"T_cdfee_row2_col1\" class=\"data row2 col1\" >1.303840</td>\n",
       "      <td id=\"T_cdfee_row2_col2\" class=\"data row2 col2\" >8.288546</td>\n",
       "      <td id=\"T_cdfee_row2_col3\" class=\"data row2 col3\" >109117.673484</td>\n",
       "    </tr>\n",
       "    <tr>\n",
       "      <th id=\"T_cdfee_level0_row3\" class=\"row_heading level0 row3\" >min</th>\n",
       "      <td id=\"T_cdfee_row3_col0\" class=\"data row3 col0\" >2600.000000</td>\n",
       "      <td id=\"T_cdfee_row3_col1\" class=\"data row3 col1\" >3.000000</td>\n",
       "      <td id=\"T_cdfee_row3_col2\" class=\"data row3 col2\" >8.000000</td>\n",
       "      <td id=\"T_cdfee_row3_col3\" class=\"data row3 col3\" >550000.000000</td>\n",
       "    </tr>\n",
       "    <tr>\n",
       "      <th id=\"T_cdfee_level0_row4\" class=\"row_heading level0 row4\" >25%</th>\n",
       "      <td id=\"T_cdfee_row4_col0\" class=\"data row4 col0\" >3050.000000</td>\n",
       "      <td id=\"T_cdfee_row4_col1\" class=\"data row4 col1\" >3.000000</td>\n",
       "      <td id=\"T_cdfee_row4_col2\" class=\"data row4 col2\" >9.750000</td>\n",
       "      <td id=\"T_cdfee_row4_col3\" class=\"data row4 col3\" >572500.000000</td>\n",
       "    </tr>\n",
       "    <tr>\n",
       "      <th id=\"T_cdfee_level0_row5\" class=\"row_heading level0 row5\" >50%</th>\n",
       "      <td id=\"T_cdfee_row5_col0\" class=\"data row5 col0\" >3400.000000</td>\n",
       "      <td id=\"T_cdfee_row5_col1\" class=\"data row5 col1\" >4.000000</td>\n",
       "      <td id=\"T_cdfee_row5_col2\" class=\"data row5 col2\" >16.500000</td>\n",
       "      <td id=\"T_cdfee_row5_col3\" class=\"data row5 col3\" >602500.000000</td>\n",
       "    </tr>\n",
       "    <tr>\n",
       "      <th id=\"T_cdfee_level0_row6\" class=\"row_heading level0 row6\" >75%</th>\n",
       "      <td id=\"T_cdfee_row6_col0\" class=\"data row6 col0\" >3900.000000</td>\n",
       "      <td id=\"T_cdfee_row6_col1\" class=\"data row6 col1\" >5.000000</td>\n",
       "      <td id=\"T_cdfee_row6_col2\" class=\"data row6 col2\" >19.500000</td>\n",
       "      <td id=\"T_cdfee_row6_col3\" class=\"data row6 col3\" >722500.000000</td>\n",
       "    </tr>\n",
       "    <tr>\n",
       "      <th id=\"T_cdfee_level0_row7\" class=\"row_heading level0 row7\" >max</th>\n",
       "      <td id=\"T_cdfee_row7_col0\" class=\"data row7 col0\" >4100.000000</td>\n",
       "      <td id=\"T_cdfee_row7_col1\" class=\"data row7 col1\" >6.000000</td>\n",
       "      <td id=\"T_cdfee_row7_col2\" class=\"data row7 col2\" >30.000000</td>\n",
       "      <td id=\"T_cdfee_row7_col3\" class=\"data row7 col3\" >810000.000000</td>\n",
       "    </tr>\n",
       "  </tbody>\n",
       "</table>\n"
      ],
      "text/plain": [
       "<pandas.io.formats.style.Styler at 0x1da24282c70>"
      ]
     },
     "execution_count": 7,
     "metadata": {},
     "output_type": "execute_result"
    }
   ],
   "source": [
    "# Descriptiion of our data set\n",
    "\n",
    "df.describe().style.background_gradient(cmap='CMRmap')"
   ]
  },
  {
   "cell_type": "code",
   "execution_count": 8,
   "id": "637e3049",
   "metadata": {},
   "outputs": [
    {
     "data": {
      "text/plain": [
       "area        0\n",
       "bedrooms    1\n",
       "age         0\n",
       "price       0\n",
       "dtype: int64"
      ]
     },
     "execution_count": 8,
     "metadata": {},
     "output_type": "execute_result"
    }
   ],
   "source": [
    "#  to know how many null values\n",
    "\n",
    "df.isna().sum()"
   ]
  },
  {
   "cell_type": "code",
   "execution_count": 9,
   "id": "ed4dc217",
   "metadata": {},
   "outputs": [
    {
     "data": {
      "text/html": [
       "<div>\n",
       "<style scoped>\n",
       "    .dataframe tbody tr th:only-of-type {\n",
       "        vertical-align: middle;\n",
       "    }\n",
       "\n",
       "    .dataframe tbody tr th {\n",
       "        vertical-align: top;\n",
       "    }\n",
       "\n",
       "    .dataframe thead th {\n",
       "        text-align: right;\n",
       "    }\n",
       "</style>\n",
       "<table border=\"1\" class=\"dataframe\">\n",
       "  <thead>\n",
       "    <tr style=\"text-align: right;\">\n",
       "      <th></th>\n",
       "      <th>area</th>\n",
       "      <th>bedrooms</th>\n",
       "      <th>age</th>\n",
       "      <th>price</th>\n",
       "    </tr>\n",
       "  </thead>\n",
       "  <tbody>\n",
       "    <tr>\n",
       "      <th>0</th>\n",
       "      <td>2600</td>\n",
       "      <td>3.0</td>\n",
       "      <td>20</td>\n",
       "      <td>550000</td>\n",
       "    </tr>\n",
       "    <tr>\n",
       "      <th>1</th>\n",
       "      <td>3000</td>\n",
       "      <td>4.0</td>\n",
       "      <td>15</td>\n",
       "      <td>565000</td>\n",
       "    </tr>\n",
       "    <tr>\n",
       "      <th>2</th>\n",
       "      <td>3200</td>\n",
       "      <td>4.2</td>\n",
       "      <td>18</td>\n",
       "      <td>610000</td>\n",
       "    </tr>\n",
       "    <tr>\n",
       "      <th>3</th>\n",
       "      <td>3600</td>\n",
       "      <td>3.0</td>\n",
       "      <td>30</td>\n",
       "      <td>595000</td>\n",
       "    </tr>\n",
       "    <tr>\n",
       "      <th>4</th>\n",
       "      <td>4000</td>\n",
       "      <td>5.0</td>\n",
       "      <td>8</td>\n",
       "      <td>760000</td>\n",
       "    </tr>\n",
       "  </tbody>\n",
       "</table>\n",
       "</div>"
      ],
      "text/plain": [
       "   area  bedrooms  age   price\n",
       "0  2600       3.0   20  550000\n",
       "1  3000       4.0   15  565000\n",
       "2  3200       4.2   18  610000\n",
       "3  3600       3.0   30  595000\n",
       "4  4000       5.0    8  760000"
      ]
     },
     "execution_count": 9,
     "metadata": {},
     "output_type": "execute_result"
    }
   ],
   "source": [
    "# fill null values with median value\n",
    "\n",
    "df['bedrooms'] = df['bedrooms'].fillna( df['bedrooms'].mean() )\n",
    "\n",
    "#  here we can use inplace=True as well.  both are valid for update data frame\n",
    "\n",
    "df.head()"
   ]
  },
  {
   "cell_type": "code",
   "execution_count": 10,
   "id": "a18c8fb1",
   "metadata": {},
   "outputs": [
    {
     "data": {
      "image/png": "[encoded data removed]",
      "text/plain": [
       "<Figure size 1000x700 with 1 Axes>"
      ]
     },
     "metadata": {},
     "output_type": "display_data"
    }
   ],
   "source": [
    "# barploat show\n",
    "\n",
    "plt.figure(figsize=(10, 7))\n",
    "plt.title(\"Bedroom wise price increase.\")\n",
    "\n",
    "sns.barplot('bedrooms', 'price', data=df)\n",
    "plt.xlabel('Bedrooms', )\n",
    "plt.ylabel('Price')\n",
    "plt.show()"
   ]
  },
  {
   "cell_type": "code",
   "execution_count": 11,
   "id": "6a75d341",
   "metadata": {},
   "outputs": [
    {
     "data": {
      "image/png": "[encoded data removed]",
      "text/plain": [
       "<Figure size 1000x500 with 1 Axes>"
      ]
     },
     "metadata": {},
     "output_type": "display_data"
    }
   ],
   "source": [
    "# Scatter plot\n",
    "plt.figure(figsize=(10, 5))\n",
    "\n",
    "sns.scatterplot('bedrooms', 'price',data=df)\n",
    "plt.title(\"Price vs Bedroom Scatter plot\")\n",
    "\n",
    "plt.xlabel(\"House Bedrooms\")\n",
    "plt.ylabel('House Price')\n",
    "plt.show()"
   ]
  },
  {
   "cell_type": "code",
   "execution_count": 12,
   "id": "d1c74256",
   "metadata": {},
   "outputs": [
    {
     "data": {
      "text/plain": [
       "<Figure size 1000x700 with 0 Axes>"
      ]
     },
     "metadata": {},
     "output_type": "display_data"
    },
    {
     "data": {
      "image/png": "[encoded data removed]",
      "text/plain": [
       "<Figure size 500x500 with 1 Axes>"
      ]
     },
     "metadata": {},
     "output_type": "display_data"
    }
   ],
   "source": [
    "plt.figure(figsize=(10, 7))\n",
    "\n",
    "sns.lmplot(x=\"bedrooms\", y=\"price\", data=df);\n",
    "plt.title(\"Price and bedroom wise line plot\")\n",
    "plt.show()"
   ]
  },
  {
   "cell_type": "code",
   "execution_count": 13,
   "id": "1adb202c",
   "metadata": {},
   "outputs": [],
   "source": [
    "# import model \n",
    "from sklearn.linear_model import LinearRegression"
   ]
  },
  {
   "cell_type": "code",
   "execution_count": 15,
   "id": "1c7dae4e",
   "metadata": {},
   "outputs": [],
   "source": [
    "mdl = LinearRegression()"
   ]
  },
  {
   "cell_type": "code",
   "execution_count": 16,
   "id": "b4f5f88c",
   "metadata": {},
   "outputs": [],
   "source": [
    "#  Set dependent and independent variables\n",
    "\n",
    "X = df.drop(['price'], axis=1)\n",
    "y = df['price']"
   ]
  },
  {
   "cell_type": "code",
   "execution_count": 17,
   "id": "645cee42",
   "metadata": {},
   "outputs": [
    {
     "name": "stdout",
     "output_type": "stream",
     "text": [
      "<class 'pandas.core.frame.DataFrame'>\n",
      "RangeIndex: 6 entries, 0 to 5\n",
      "Data columns (total 4 columns):\n",
      " #   Column    Non-Null Count  Dtype\n",
      "---  ------    --------------  -----\n",
      " 0   area      6 non-null      int64\n",
      " 1   bedrooms  6 non-null      int64\n",
      " 2   age       6 non-null      int64\n",
      " 3   price     6 non-null      int64\n",
      "dtypes: int64(4)\n",
      "memory usage: 320.0 bytes\n"
     ]
    }
   ],
   "source": [
    "df['bedrooms'] = df['bedrooms'].astype('int64')\n",
    "\n",
    "df.info()"
   ]
  },
  {
   "cell_type": "code",
   "execution_count": 18,
   "id": "a5698b48",
   "metadata": {},
   "outputs": [
    {
     "name": "stdout",
     "output_type": "stream",
     "text": [
      "   area  bedrooms  age\n",
      "0  2600       3.0   20\n",
      "1  3000       4.0   15\n",
      "2  3200       4.2   18\n",
      "3  3600       3.0   30\n",
      "4  4000       5.0    8\n",
      "5  4100       6.0    8\n",
      "-------------------------\n",
      "0    550000\n",
      "1    565000\n",
      "2    610000\n",
      "3    595000\n",
      "4    760000\n",
      "5    810000\n",
      "Name: price, dtype: int64\n"
     ]
    }
   ],
   "source": [
    "#  shows the variables\n",
    "print(X)\n",
    "print(\"-\" * 25)\n",
    "print(y)"
   ]
  },
  {
   "cell_type": "code",
   "execution_count": 19,
   "id": "b86be654",
   "metadata": {},
   "outputs": [
    {
     "data": {
      "text/plain": [
       "LinearRegression()"
      ]
     },
     "execution_count": 19,
     "metadata": {},
     "output_type": "execute_result"
    }
   ],
   "source": [
    "#  Fitting Model\n",
    "\n",
    "mdl.fit( X, y  )"
   ]
  },
  {
   "cell_type": "code",
   "execution_count": 21,
   "id": "53a5e8e1",
   "metadata": {},
   "outputs": [
    {
     "data": {
      "text/plain": [
       "array([551989.04870256])"
      ]
     },
     "execution_count": 21,
     "metadata": {},
     "output_type": "execute_result"
    }
   ],
   "source": [
    "# Now custimize prediction testing\n",
    "\n",
    "mdl.predict([[ 4000, 2, 50 ]])"
   ]
  },
  {
   "cell_type": "code",
   "execution_count": 22,
   "id": "a55ab59f",
   "metadata": {},
   "outputs": [
    {
     "data": {
      "text/plain": [
       "array([  116.66950551, 18756.28806982, -3675.75111708])"
      ]
     },
     "execution_count": 22,
     "metadata": {},
     "output_type": "execute_result"
    }
   ],
   "source": [
    "mdl.coef_"
   ]
  },
  {
   "cell_type": "code",
   "execution_count": 23,
   "id": "94b8e8de",
   "metadata": {},
   "outputs": [
    {
     "data": {
      "text/plain": [
       "231586.00639409182"
      ]
     },
     "execution_count": 23,
     "metadata": {},
     "output_type": "execute_result"
    }
   ],
   "source": [
    "mdl.intercept_"
   ]
  },
  {
   "cell_type": "code",
   "execution_count": 24,
   "id": "6f376315",
   "metadata": {},
   "outputs": [
    {
     "name": "stdout",
     "output_type": "stream",
     "text": [
      "95.40926625396438\n"
     ]
    }
   ],
   "source": [
    "#  know score \n",
    "score = mdl.score( X, y )\n",
    "\n",
    "print(score * 100)"
   ]
  }
 ],
 "metadata": {
  "kernelspec": {
   "display_name": "Python 3 (ipykernel)",
   "language": "python",
   "name": "python3"
  },
  "language_info": {
   "codemirror_mode": {
    "name": "ipython",
    "version": 3
   },
   "file_extension": ".py",
   "mimetype": "text/x-python",
   "name": "python",
   "nbconvert_exporter": "python",
   "pygments_lexer": "ipython3",
   "version": "3.9.13"
  }
 },
 "nbformat": 4,
 "nbformat_minor": 5
}
